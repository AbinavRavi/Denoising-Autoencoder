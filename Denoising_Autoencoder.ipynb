{
  "nbformat": 4,
  "nbformat_minor": 0,
  "metadata": {
    "colab": {
      "name": "Denoising Autoencoder.ipynb",
      "version": "0.3.2",
      "provenance": [],
      "collapsed_sections": []
    },
    "kernelspec": {
      "name": "python3",
      "display_name": "Python 3"
    },
    "accelerator": "GPU"
  },
  "cells": [
    {
      "metadata": {
        "id": "_HiEmzF2He1P",
        "colab_type": "code",
        "colab": {}
      },
      "cell_type": "code",
      "source": [
        "import torch\n",
        "import numpy as np\n",
        "import torchvision.datasets as datasets\n",
        "from torchvision.transforms import transforms\n",
        "import matplotlib.pyplot as plt\n",
        "%matplotlib inline\n",
        "import torch.nn as nn\n",
        "import torch.nn.functional as F"
      ],
      "execution_count": 0,
      "outputs": []
    },
    {
      "metadata": {
        "id": "lQcOO-HBHmMD",
        "colab_type": "code",
        "outputId": "56c7c9fd-cfdd-4198-ce6d-f63a58c0b805",
        "colab": {
          "base_uri": "https://localhost:8080/",
          "height": 295
        }
      },
      "cell_type": "code",
      "source": [
        "transform = transforms.ToTensor()\n",
        "train_data = datasets.MNIST(root='data', train=True,download=True, transform=transform)\n",
        "test_data = datasets.MNIST(root='data',train=False,download=True,transform=transform)\n",
        "num_workers = 0\n",
        "batch_size = 30\n",
        "train_loader = torch.utils.data.DataLoader(train_data, batch_size=batch_size, num_workers=num_workers)\n",
        "test_loader = torch.utils.data.DataLoader(test_data, batch_size=batch_size, num_workers=num_workers)"
      ],
      "execution_count": 0,
      "outputs": [
        {
          "output_type": "stream",
          "text": [
            "\r0it [00:00, ?it/s]"
          ],
          "name": "stderr"
        },
        {
          "output_type": "stream",
          "text": [
            "Downloading http://yann.lecun.com/exdb/mnist/train-images-idx3-ubyte.gz to data/MNIST/raw/train-images-idx3-ubyte.gz\n"
          ],
          "name": "stdout"
        },
        {
          "output_type": "stream",
          "text": [
            "9920512it [00:01, 8006675.40it/s]                            \n"
          ],
          "name": "stderr"
        },
        {
          "output_type": "stream",
          "text": [
            "Extracting data/MNIST/raw/train-images-idx3-ubyte.gz\n"
          ],
          "name": "stdout"
        },
        {
          "output_type": "stream",
          "text": [
            "  0%|          | 0/28881 [00:00<?, ?it/s]"
          ],
          "name": "stderr"
        },
        {
          "output_type": "stream",
          "text": [
            "Downloading http://yann.lecun.com/exdb/mnist/train-labels-idx1-ubyte.gz to data/MNIST/raw/train-labels-idx1-ubyte.gz\n"
          ],
          "name": "stdout"
        },
        {
          "output_type": "stream",
          "text": [
            "32768it [00:00, 135350.76it/s]           \n",
            "  0%|          | 0/1648877 [00:00<?, ?it/s]"
          ],
          "name": "stderr"
        },
        {
          "output_type": "stream",
          "text": [
            "Extracting data/MNIST/raw/train-labels-idx1-ubyte.gz\n",
            "Downloading http://yann.lecun.com/exdb/mnist/t10k-images-idx3-ubyte.gz to data/MNIST/raw/t10k-images-idx3-ubyte.gz\n"
          ],
          "name": "stdout"
        },
        {
          "output_type": "stream",
          "text": [
            "1654784it [00:00, 1908775.66it/s]                           \n",
            "0it [00:00, ?it/s]"
          ],
          "name": "stderr"
        },
        {
          "output_type": "stream",
          "text": [
            "Extracting data/MNIST/raw/t10k-images-idx3-ubyte.gz\n",
            "Downloading http://yann.lecun.com/exdb/mnist/t10k-labels-idx1-ubyte.gz to data/MNIST/raw/t10k-labels-idx1-ubyte.gz\n"
          ],
          "name": "stdout"
        },
        {
          "output_type": "stream",
          "text": [
            "8192it [00:00, 47610.57it/s]            "
          ],
          "name": "stderr"
        },
        {
          "output_type": "stream",
          "text": [
            "Extracting data/MNIST/raw/t10k-labels-idx1-ubyte.gz\n",
            "Processing...\n",
            "Done!\n"
          ],
          "name": "stdout"
        },
        {
          "output_type": "stream",
          "text": [
            "\n"
          ],
          "name": "stderr"
        }
      ]
    },
    {
      "metadata": {
        "id": "lLGnYwEVHzo5",
        "colab_type": "code",
        "outputId": "34a91fc8-194b-468b-80c1-30ceb083774c",
        "colab": {
          "base_uri": "https://localhost:8080/",
          "height": 338
        }
      },
      "cell_type": "code",
      "source": [
        "data = iter(train_loader)\n",
        "images, labels = data.next()\n",
        "images = images.numpy() #convert the tensor to numpy array\n",
        "img = np.squeeze(images[0])#flatten out the image\n",
        "fig = plt.figure(figsize = (5,5)) \n",
        "ax = fig.add_subplot(111)\n",
        "ax.imshow(img, cmap='gray')"
      ],
      "execution_count": 0,
      "outputs": [
        {
          "output_type": "execute_result",
          "data": {
            "text/plain": [
              "<matplotlib.image.AxesImage at 0x7ff66479f5f8>"
            ]
          },
          "metadata": {
            "tags": []
          },
          "execution_count": 4
        },
        {
          "output_type": "display_data",
          "data": {
            "image/png": "[encoded data removed]",
            "text/plain": [
              "<Figure size 360x360 with 1 Axes>"
            ]
          },
          "metadata": {
            "tags": []
          }
        }
      ]
    },
    {
      "metadata": {
        "id": "ZjUd5SKhH3_j",
        "colab_type": "code",
        "outputId": "20b51af1-db95-493b-fefb-748f84ff3d46",
        "colab": {
          "base_uri": "https://localhost:8080/",
          "height": 201
        }
      },
      "cell_type": "code",
      "source": [
        "class Denoiser(nn.Module):\n",
        "    def __init__(self):\n",
        "        super(Denoiser,self).__init__()\n",
        "            #encoder layers\n",
        "        self.conv1 = nn.Conv2d(1,32,3,padding=1)\n",
        "        self.conv2 = nn.Conv2d(32,16,3,padding=1)\n",
        "        self.conv3 = nn.Conv2d(16,8,3,padding=1)\n",
        "        self.pool = nn.MaxPool2d(2,2)\n",
        "            #decoder layers\n",
        "        self.deconv1 = nn.ConvTranspose2d(8,8,3,stride=2)\n",
        "        self.deconv2 = nn.ConvTranspose2d(8,16,2,stride=2)\n",
        "        self.deconv3 = nn.ConvTranspose2d(16,32,2,stride=2)\n",
        "        self.conv_out = nn.Conv2d(32,1,3,padding=1)\n",
        "            \n",
        "    def forward(self,x):\n",
        "        #define the complete network\n",
        "        #encoder\n",
        "        x = F.relu(self.conv1(x))\n",
        "        x = self.pool(x)\n",
        "        x = F.relu(self.conv2(x))\n",
        "        x = self.pool(x)\n",
        "        x = F.relu(self.conv3(x))\n",
        "        x = self.pool(x)\n",
        "        \n",
        "        #decoder\n",
        "        x = F.relu(self.deconv1(x))\n",
        "        x = F.relu(self.deconv2(x))\n",
        "        x = F.relu(self.deconv3(x))\n",
        "        x = torch.sigmoid(self.conv_out(x))\n",
        "        \n",
        "        return x\n",
        "\n",
        "model = Denoiser()\n",
        "print(model)"
      ],
      "execution_count": 0,
      "outputs": [
        {
          "output_type": "stream",
          "text": [
            "Denoiser(\n",
            "  (conv1): Conv2d(1, 32, kernel_size=(3, 3), stride=(1, 1), padding=(1, 1))\n",
            "  (conv2): Conv2d(32, 16, kernel_size=(3, 3), stride=(1, 1), padding=(1, 1))\n",
            "  (conv3): Conv2d(16, 8, kernel_size=(3, 3), stride=(1, 1), padding=(1, 1))\n",
            "  (pool): MaxPool2d(kernel_size=2, stride=2, padding=0, dilation=1, ceil_mode=False)\n",
            "  (deconv1): ConvTranspose2d(8, 8, kernel_size=(3, 3), stride=(2, 2))\n",
            "  (deconv2): ConvTranspose2d(8, 16, kernel_size=(2, 2), stride=(2, 2))\n",
            "  (deconv3): ConvTranspose2d(16, 32, kernel_size=(2, 2), stride=(2, 2))\n",
            "  (conv_out): Conv2d(32, 1, kernel_size=(3, 3), stride=(1, 1), padding=(1, 1))\n",
            ")\n"
          ],
          "name": "stdout"
        }
      ]
    },
    {
      "metadata": {
        "id": "e-SBZ3_bH9Yw",
        "colab_type": "code",
        "colab": {}
      },
      "cell_type": "code",
      "source": [
        "loss_function = nn.MSELoss()\n",
        "optimizer = torch.optim.Adam(model.parameters(),lr = 0.001)"
      ],
      "execution_count": 0,
      "outputs": []
    },
    {
      "metadata": {
        "id": "Bij3Gs7GIBDH",
        "colab_type": "code",
        "outputId": "fd5e5261-d4a8-47a6-fcc5-80cd72c88320",
        "colab": {
          "base_uri": "https://localhost:8080/",
          "height": 589
        }
      },
      "cell_type": "code",
      "source": [
        "epochs = 30\n",
        "noise_factor = 0.6\n",
        "train_on_gpu = torch.cuda.is_available()\n",
        "if not train_on_gpu:\n",
        "  print('CUDA is not available.  Training on CPU ...')\n",
        "  device = \"cpu\"\n",
        "else:\n",
        "  print('CUDA is available!  Training on GPU ...')\n",
        "  device = \"cuda\"\n",
        "model.to(device)\n",
        "\n",
        "\n",
        "for epoch in range(1,epochs+1):\n",
        "    train_loss = 0.0\n",
        "    for data in train_loader:\n",
        "        images,_ = data\n",
        "        noisy_imgs = images + noise_factor * torch.randn(*images.shape)\n",
        "        noisy_imgs = np.clip(noisy_imgs, 0., 1.)\n",
        "        optimizer.zero_grad()\n",
        "        output = model(noisy_imgs.to(device))\n",
        "        loss = loss_function(output,images.to(device))\n",
        "        loss.backward()\n",
        "        optimizer.step()\n",
        "        train_loss += loss.item()*images.size(0)\n",
        "    train_loss = train_loss/len(train_loader)\n",
        "    print('Epoch: {} \\tTraining Loss: {:.6f}'.format(epoch,train_loss))"
      ],
      "execution_count": 23,
      "outputs": [
        {
          "output_type": "stream",
          "text": [
            "CUDA is available!  Training on GPU ...\n",
            "Epoch: 1 \tTraining Loss: 1.500923\n",
            "Epoch: 2 \tTraining Loss: 1.055069\n",
            "Epoch: 3 \tTraining Loss: 0.970344\n",
            "Epoch: 4 \tTraining Loss: 0.908010\n",
            "Epoch: 5 \tTraining Loss: 0.876958\n",
            "Epoch: 6 \tTraining Loss: 0.855166\n",
            "Epoch: 7 \tTraining Loss: 0.839564\n",
            "Epoch: 8 \tTraining Loss: 0.823737\n",
            "Epoch: 9 \tTraining Loss: 0.812463\n",
            "Epoch: 10 \tTraining Loss: 0.798363\n",
            "Epoch: 11 \tTraining Loss: 0.783455\n",
            "Epoch: 12 \tTraining Loss: 0.771834\n",
            "Epoch: 13 \tTraining Loss: 0.758741\n",
            "Epoch: 14 \tTraining Loss: 0.745678\n",
            "Epoch: 15 \tTraining Loss: 0.734402\n",
            "Epoch: 16 \tTraining Loss: 0.722479\n",
            "Epoch: 17 \tTraining Loss: 0.714132\n",
            "Epoch: 18 \tTraining Loss: 0.705207\n",
            "Epoch: 19 \tTraining Loss: 0.697794\n",
            "Epoch: 20 \tTraining Loss: 0.688336\n",
            "Epoch: 21 \tTraining Loss: 0.683798\n",
            "Epoch: 22 \tTraining Loss: 0.680277\n",
            "Epoch: 23 \tTraining Loss: 0.675582\n",
            "Epoch: 24 \tTraining Loss: 0.671411\n",
            "Epoch: 25 \tTraining Loss: 0.669445\n",
            "Epoch: 26 \tTraining Loss: 0.666060\n",
            "Epoch: 27 \tTraining Loss: 0.661705\n",
            "Epoch: 28 \tTraining Loss: 0.660883\n",
            "Epoch: 29 \tTraining Loss: 0.658462\n",
            "Epoch: 30 \tTraining Loss: 0.657739\n"
          ],
          "name": "stdout"
        }
      ]
    },
    {
      "metadata": {
        "id": "ImGH89xwIQg2",
        "colab_type": "code",
        "colab": {}
      },
      "cell_type": "code",
      "source": [
        ""
      ],
      "execution_count": 0,
      "outputs": []
    },
    {
      "metadata": {
        "id": "TE_JE8QSRvEi",
        "colab_type": "code",
        "colab": {
          "base_uri": "https://localhost:8080/",
          "height": 248
        },
        "outputId": "3fc854bf-6991-40c4-8fb4-3e3f2a4bae90"
      },
      "cell_type": "code",
      "source": [
        "data = iter(test_loader)\n",
        "images,labels = data.next()\n",
        "noisy_imgs = images + noise_factor * torch.randn(*images.shape)\n",
        "noisy_imgs = np.clip(noisy_imgs, 0., 1.)\n",
        "output = model(noisy_imgs.to(device))\n",
        "noisy_imgs = noisy_imgs.numpy()\n",
        "output = output.view(batch_size, 1, 28, 28)\n",
        "output = output.cpu()\n",
        "output = output.detach().numpy()\n",
        "fig, axes = plt.subplots(nrows=2,ncols=5,sharex=True,sharey=True,figsize=(25,4))\n",
        "for noisy_imgs, row in zip([noisy_imgs, output], axes):\n",
        "    for img, ax in zip(noisy_imgs, row):\n",
        "        ax.imshow(np.squeeze(img), cmap='gray')\n",
        "        ax.get_xaxis().set_visible(False)\n",
        "        ax.get_yaxis().set_visible(False)"
      ],
      "execution_count": 31,
      "outputs": [
        {
          "output_type": "display_data",
          "data": {
            "image/png": "[encoded data removed]",
            "text/plain": [
              "<Figure size 1800x288 with 10 Axes>"
            ]
          },
          "metadata": {
            "tags": []
          }
        }
      ]
    },
    {
      "metadata": {
        "id": "bGPJ_G7RSo9_",
        "colab_type": "code",
        "colab": {}
      },
      "cell_type": "code",
      "source": [
        ""
      ],
      "execution_count": 0,
      "outputs": []
    }
  ]
}